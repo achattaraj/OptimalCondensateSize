{
 "cells": [
  {
   "cell_type": "code",
   "execution_count": 1,
   "id": "40e736ae",
   "metadata": {},
   "outputs": [],
   "source": [
    "from Nephrin_clusterDataAnalysis import * "
   ]
  },
  {
   "cell_type": "code",
   "execution_count": 3,
   "id": "31fd9667",
   "metadata": {},
   "outputs": [
    {
     "name": "stdout",
     "output_type": "stream",
     "text": [
      "\n",
      "System:  ./..\\r_S9N0.40_relaxed_tp_310000000.DATA\n",
      "Processing 20 DATA files ...\n",
      "\n",
      "Progress : [****************************************] 100%\n"
     ]
    }
   ],
   "source": [
    "from glob import glob \n",
    "\n",
    "# collecting all the data files \n",
    "\n",
    "dfiles = glob('./../*.DATA')\n",
    "\n",
    "# molecular (chain) Ids for four molecular types\n",
    "neph, nck, nw, arp = arange(1,81), arange(81,321), arange(321,441), arange(441,501)\n",
    "\n",
    "mTyp = {'Arp': arp.astype(int), 'NWASP': nw.astype(int), \n",
    "            'Nck': nck.astype(int), 'Neph': neph.astype(int)}\n",
    "\n",
    "# collect and save statistics\n",
    "res = getStat(dfiles, molType=mTyp, sysName='S9N04_neph', distSave=True)\n",
    "    "
   ]
  },
  {
   "cell_type": "code",
   "execution_count": null,
   "id": "feff0565",
   "metadata": {},
   "outputs": [],
   "source": []
  }
 ],
 "metadata": {
  "kernelspec": {
   "display_name": "Python 3 (ipykernel)",
   "language": "python",
   "name": "python3"
  },
  "language_info": {
   "codemirror_mode": {
    "name": "ipython",
    "version": 3
   },
   "file_extension": ".py",
   "mimetype": "text/x-python",
   "name": "python",
   "nbconvert_exporter": "python",
   "pygments_lexer": "ipython3",
   "version": "3.10.9"
  }
 },
 "nbformat": 4,
 "nbformat_minor": 5
}
